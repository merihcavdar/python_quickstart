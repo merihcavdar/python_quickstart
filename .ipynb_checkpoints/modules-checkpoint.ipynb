{
 "cells": [
  {
   "cell_type": "code",
   "execution_count": 1,
   "id": "a5db5fb4",
   "metadata": {},
   "outputs": [
    {
     "ename": "ModuleNotFoundError",
     "evalue": "No module named 'calender'",
     "output_type": "error",
     "traceback": [
      "\u001b[1;31m---------------------------------------------------------------------------\u001b[0m",
      "\u001b[1;31mModuleNotFoundError\u001b[0m                       Traceback (most recent call last)",
      "Cell \u001b[1;32mIn[1], line 1\u001b[0m\n\u001b[1;32m----> 1\u001b[0m \u001b[38;5;28;01mimport\u001b[39;00m \u001b[38;5;21;01mcalender\u001b[39;00m\n",
      "\u001b[1;31mModuleNotFoundError\u001b[0m: No module named 'calender'"
     ]
    }
   ],
   "source": [
    "import calender"
   ]
  },
  {
   "cell_type": "code",
   "execution_count": 2,
   "id": "c0a99fc1",
   "metadata": {},
   "outputs": [],
   "source": [
    "import calendar\n"
   ]
  },
  {
   "cell_type": "code",
   "execution_count": 3,
   "id": "4d56ad1f",
   "metadata": {},
   "outputs": [],
   "source": [
    "cal = calendar.month(2023, 9)\n"
   ]
  },
  {
   "cell_type": "code",
   "execution_count": 4,
   "id": "756baf57",
   "metadata": {},
   "outputs": [
    {
     "name": "stdout",
     "output_type": "stream",
     "text": [
      "   September 2023\n",
      "Mo Tu We Th Fr Sa Su\n",
      "             1  2  3\n",
      " 4  5  6  7  8  9 10\n",
      "11 12 13 14 15 16 17\n",
      "18 19 20 21 22 23 24\n",
      "25 26 27 28 29 30\n",
      "\n"
     ]
    }
   ],
   "source": [
    "print(cal)"
   ]
  },
  {
   "cell_type": "code",
   "execution_count": 5,
   "id": "f8905291",
   "metadata": {},
   "outputs": [],
   "source": [
    "import math"
   ]
  },
  {
   "cell_type": "code",
   "execution_count": 6,
   "id": "569d22a2",
   "metadata": {},
   "outputs": [],
   "source": [
    "result = math.sqrt(49)"
   ]
  },
  {
   "cell_type": "code",
   "execution_count": 7,
   "id": "2bb03488",
   "metadata": {},
   "outputs": [
    {
     "name": "stdout",
     "output_type": "stream",
     "text": [
      "7.0\n"
     ]
    }
   ],
   "source": [
    "print(result)"
   ]
  },
  {
   "cell_type": "code",
   "execution_count": 8,
   "id": "25229e9c",
   "metadata": {},
   "outputs": [
    {
     "name": "stdout",
     "output_type": "stream",
     "text": [
      "7\n"
     ]
    }
   ],
   "source": [
    "print(round(result))"
   ]
  },
  {
   "cell_type": "code",
   "execution_count": 9,
   "id": "45070bf0",
   "metadata": {},
   "outputs": [],
   "source": [
    "import random"
   ]
  },
  {
   "cell_type": "code",
   "execution_count": 17,
   "id": "fe8e1c8a",
   "metadata": {},
   "outputs": [],
   "source": [
    "number = random.randint(1, 100)"
   ]
  },
  {
   "cell_type": "code",
   "execution_count": 18,
   "id": "dd6c3e77",
   "metadata": {},
   "outputs": [
    {
     "name": "stdout",
     "output_type": "stream",
     "text": [
      "66\n"
     ]
    }
   ],
   "source": [
    "print(number)"
   ]
  },
  {
   "cell_type": "code",
   "execution_count": 19,
   "id": "adfc7bca",
   "metadata": {},
   "outputs": [],
   "source": [
    "movies = [\"Aladdin\", \"Stuber\", \"John Wick\", \"Man in Black\"]"
   ]
  },
  {
   "cell_type": "code",
   "execution_count": 28,
   "id": "afe93c17",
   "metadata": {},
   "outputs": [],
   "source": [
    "watch = random.choice(movies)"
   ]
  },
  {
   "cell_type": "code",
   "execution_count": 29,
   "id": "d0b90111",
   "metadata": {},
   "outputs": [
    {
     "name": "stdout",
     "output_type": "stream",
     "text": [
      "Stuber\n"
     ]
    }
   ],
   "source": [
    "print(watch)"
   ]
  },
  {
   "cell_type": "code",
   "execution_count": 30,
   "id": "aeb7bc50",
   "metadata": {},
   "outputs": [],
   "source": [
    "deck = [\"Ace\", \"Two\", \"Three\"]"
   ]
  },
  {
   "cell_type": "code",
   "execution_count": 37,
   "id": "d08db72c",
   "metadata": {},
   "outputs": [],
   "source": [
    "random.shuffle(deck)"
   ]
  },
  {
   "cell_type": "code",
   "execution_count": 38,
   "id": "f1b3a980",
   "metadata": {},
   "outputs": [
    {
     "name": "stdout",
     "output_type": "stream",
     "text": [
      "['Two', 'Ace', 'Three']\n"
     ]
    }
   ],
   "source": [
    "print(deck)"
   ]
  },
  {
   "cell_type": "code",
   "execution_count": null,
   "id": "fb032320",
   "metadata": {},
   "outputs": [],
   "source": []
  }
 ],
 "metadata": {
  "kernelspec": {
   "display_name": "Python 3 (ipykernel)",
   "language": "python",
   "name": "python3"
  },
  "language_info": {
   "codemirror_mode": {
    "name": "ipython",
    "version": 3
   },
   "file_extension": ".py",
   "mimetype": "text/x-python",
   "name": "python",
   "nbconvert_exporter": "python",
   "pygments_lexer": "ipython3",
   "version": "3.11.4"
  }
 },
 "nbformat": 4,
 "nbformat_minor": 5
}
